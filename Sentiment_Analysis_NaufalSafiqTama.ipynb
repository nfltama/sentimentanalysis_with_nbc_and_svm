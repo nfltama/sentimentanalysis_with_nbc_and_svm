{
  "nbformat": 4,
  "nbformat_minor": 0,
  "metadata": {
    "colab": {
      "provenance": [],
      "toc_visible": true
    },
    "kernelspec": {
      "name": "python3",
      "display_name": "Python 3"
    },
    "language_info": {
      "name": "python"
    }
  },
  "cells": [
    {
      "cell_type": "markdown",
      "source": [
        "### 1 - Import Library yang akan digunakan"
      ],
      "metadata": {
        "id": "1PcpaFMSBhpg"
      }
    },
    {
      "cell_type": "code",
      "execution_count": null,
      "metadata": {
        "id": "e3_-_Y5CAqx2"
      },
      "outputs": [],
      "source": [
        "import pandas as pd\n",
        "import numpy as np\n",
        "import matplotlib.pyplot as plt\n",
        "import pickle\n",
        "\n",
        "%matplotlib inline"
      ]
    },
    {
      "cell_type": "code",
      "source": [
        "!pip -q install sastrawi"
      ],
      "metadata": {
        "id": "7vrgJsfFCkAf"
      },
      "execution_count": null,
      "outputs": []
    },
    {
      "cell_type": "code",
      "source": [
        "import nltk\n",
        "nltk.download('stopwords')"
      ],
      "metadata": {
        "colab": {
          "base_uri": "https://localhost:8080/"
        },
        "id": "cea6RkIgCnSJ",
        "outputId": "945a1cbf-ee5e-4e8e-9979-6a78e00cb204"
      },
      "execution_count": null,
      "outputs": [
        {
          "output_type": "stream",
          "name": "stderr",
          "text": [
            "[nltk_data] Downloading package stopwords to /root/nltk_data...\n",
            "[nltk_data]   Package stopwords is already up-to-date!\n"
          ]
        },
        {
          "output_type": "execute_result",
          "data": {
            "text/plain": [
              "True"
            ]
          },
          "metadata": {},
          "execution_count": 8
        }
      ]
    },
    {
      "cell_type": "markdown",
      "source": [
        "### 2 - Data Acquisition"
      ],
      "metadata": {
        "id": "MKVqCmpCCpBW"
      }
    },
    {
      "cell_type": "code",
      "source": [
        "! wget https://raw.githubusercontent.com/rizalespe/Dataset-Sentimen-Analisis-Bahasa-Indonesia/master/dataset_komentar_instagram_cyberbullying.csv"
      ],
      "metadata": {
        "colab": {
          "base_uri": "https://localhost:8080/"
        },
        "id": "8VytlbtYCuco",
        "outputId": "2039e4d6-4b64-4207-ae00-b57a4e42c5e4"
      },
      "execution_count": null,
      "outputs": [
        {
          "output_type": "stream",
          "name": "stdout",
          "text": [
            "--2023-04-09 15:07:08--  https://raw.githubusercontent.com/rizalespe/Dataset-Sentimen-Analisis-Bahasa-Indonesia/master/dataset_komentar_instagram_cyberbullying.csv\n",
            "Resolving raw.githubusercontent.com (raw.githubusercontent.com)... 185.199.108.133, 185.199.109.133, 185.199.110.133, ...\n",
            "Connecting to raw.githubusercontent.com (raw.githubusercontent.com)|185.199.108.133|:443... connected.\n",
            "HTTP request sent, awaiting response... 200 OK\n",
            "Length: 65494 (64K) [text/plain]\n",
            "Saving to: ‘dataset_komentar_instagram_cyberbullying.csv.1’\n",
            "\n",
            "\r          dataset_k   0%[                    ]       0  --.-KB/s               \rdataset_komentar_in 100%[===================>]  63.96K  --.-KB/s    in 0.01s   \n",
            "\n",
            "2023-04-09 15:07:08 (5.19 MB/s) - ‘dataset_komentar_instagram_cyberbullying.csv.1’ saved [65494/65494]\n",
            "\n"
          ]
        }
      ]
    },
    {
      "cell_type": "code",
      "source": [
        "data = pd.read_csv('/content/dataset_komentar_instagram_cyberbullying.csv')\n",
        "data"
      ],
      "metadata": {
        "colab": {
          "base_uri": "https://localhost:8080/",
          "height": 424
        },
        "id": "3zfnFrMmDNdW",
        "outputId": "5e35b51d-ea3c-4a31-90f6-52cf10158600"
      },
      "execution_count": null,
      "outputs": [
        {
          "output_type": "execute_result",
          "data": {
            "text/plain": [
              "      Id Sentiment                             Instagram Comment Text\n",
              "0      1  negative   <USERNAME> TOLOL!! Gak ada hubungan nya kegug...\n",
              "1      2  negative  Geblek lo tata...cowo bgt dibela2in balikan......\n",
              "2      3  negative  Kmrn termewek2 skr lengket lg duhhh kok labil ...\n",
              "3      4  negative  Intinya kalau kesel dengan ATT nya, gausah ke ...\n",
              "4      5  negative  hadewwwww permpuan itu lg!!!!sakit jiwa,knp ha...\n",
              "..   ...       ...                                                ...\n",
              "395  396  positive  Bangga sama suami yg selalu ingat istri disela...\n",
              "396  397  positive  Apaoun pekerjaannya yg penting halal u tuk men...\n",
              "397  398  positive  Gojek itu mayoritas pegangguran yang lama gak ...\n",
              "398  399  positive   <USERNAME> aslinya cantik dan ayu loh mbak kr...\n",
              "399  400  positive   <USERNAME> suami saya seumuran sama saya mba,...\n",
              "\n",
              "[400 rows x 3 columns]"
            ],
            "text/html": [
              "\n",
              "  <div id=\"df-522f0112-c2db-4c54-b409-ec33f5df893c\">\n",
              "    <div class=\"colab-df-container\">\n",
              "      <div>\n",
              "<style scoped>\n",
              "    .dataframe tbody tr th:only-of-type {\n",
              "        vertical-align: middle;\n",
              "    }\n",
              "\n",
              "    .dataframe tbody tr th {\n",
              "        vertical-align: top;\n",
              "    }\n",
              "\n",
              "    .dataframe thead th {\n",
              "        text-align: right;\n",
              "    }\n",
              "</style>\n",
              "<table border=\"1\" class=\"dataframe\">\n",
              "  <thead>\n",
              "    <tr style=\"text-align: right;\">\n",
              "      <th></th>\n",
              "      <th>Id</th>\n",
              "      <th>Sentiment</th>\n",
              "      <th>Instagram Comment Text</th>\n",
              "    </tr>\n",
              "  </thead>\n",
              "  <tbody>\n",
              "    <tr>\n",
              "      <th>0</th>\n",
              "      <td>1</td>\n",
              "      <td>negative</td>\n",
              "      <td>&lt;USERNAME&gt; TOLOL!! Gak ada hubungan nya kegug...</td>\n",
              "    </tr>\n",
              "    <tr>\n",
              "      <th>1</th>\n",
              "      <td>2</td>\n",
              "      <td>negative</td>\n",
              "      <td>Geblek lo tata...cowo bgt dibela2in balikan......</td>\n",
              "    </tr>\n",
              "    <tr>\n",
              "      <th>2</th>\n",
              "      <td>3</td>\n",
              "      <td>negative</td>\n",
              "      <td>Kmrn termewek2 skr lengket lg duhhh kok labil ...</td>\n",
              "    </tr>\n",
              "    <tr>\n",
              "      <th>3</th>\n",
              "      <td>4</td>\n",
              "      <td>negative</td>\n",
              "      <td>Intinya kalau kesel dengan ATT nya, gausah ke ...</td>\n",
              "    </tr>\n",
              "    <tr>\n",
              "      <th>4</th>\n",
              "      <td>5</td>\n",
              "      <td>negative</td>\n",
              "      <td>hadewwwww permpuan itu lg!!!!sakit jiwa,knp ha...</td>\n",
              "    </tr>\n",
              "    <tr>\n",
              "      <th>...</th>\n",
              "      <td>...</td>\n",
              "      <td>...</td>\n",
              "      <td>...</td>\n",
              "    </tr>\n",
              "    <tr>\n",
              "      <th>395</th>\n",
              "      <td>396</td>\n",
              "      <td>positive</td>\n",
              "      <td>Bangga sama suami yg selalu ingat istri disela...</td>\n",
              "    </tr>\n",
              "    <tr>\n",
              "      <th>396</th>\n",
              "      <td>397</td>\n",
              "      <td>positive</td>\n",
              "      <td>Apaoun pekerjaannya yg penting halal u tuk men...</td>\n",
              "    </tr>\n",
              "    <tr>\n",
              "      <th>397</th>\n",
              "      <td>398</td>\n",
              "      <td>positive</td>\n",
              "      <td>Gojek itu mayoritas pegangguran yang lama gak ...</td>\n",
              "    </tr>\n",
              "    <tr>\n",
              "      <th>398</th>\n",
              "      <td>399</td>\n",
              "      <td>positive</td>\n",
              "      <td>&lt;USERNAME&gt; aslinya cantik dan ayu loh mbak kr...</td>\n",
              "    </tr>\n",
              "    <tr>\n",
              "      <th>399</th>\n",
              "      <td>400</td>\n",
              "      <td>positive</td>\n",
              "      <td>&lt;USERNAME&gt; suami saya seumuran sama saya mba,...</td>\n",
              "    </tr>\n",
              "  </tbody>\n",
              "</table>\n",
              "<p>400 rows × 3 columns</p>\n",
              "</div>\n",
              "      <button class=\"colab-df-convert\" onclick=\"convertToInteractive('df-522f0112-c2db-4c54-b409-ec33f5df893c')\"\n",
              "              title=\"Convert this dataframe to an interactive table.\"\n",
              "              style=\"display:none;\">\n",
              "        \n",
              "  <svg xmlns=\"http://www.w3.org/2000/svg\" height=\"24px\"viewBox=\"0 0 24 24\"\n",
              "       width=\"24px\">\n",
              "    <path d=\"M0 0h24v24H0V0z\" fill=\"none\"/>\n",
              "    <path d=\"M18.56 5.44l.94 2.06.94-2.06 2.06-.94-2.06-.94-.94-2.06-.94 2.06-2.06.94zm-11 1L8.5 8.5l.94-2.06 2.06-.94-2.06-.94L8.5 2.5l-.94 2.06-2.06.94zm10 10l.94 2.06.94-2.06 2.06-.94-2.06-.94-.94-2.06-.94 2.06-2.06.94z\"/><path d=\"M17.41 7.96l-1.37-1.37c-.4-.4-.92-.59-1.43-.59-.52 0-1.04.2-1.43.59L10.3 9.45l-7.72 7.72c-.78.78-.78 2.05 0 2.83L4 21.41c.39.39.9.59 1.41.59.51 0 1.02-.2 1.41-.59l7.78-7.78 2.81-2.81c.8-.78.8-2.07 0-2.86zM5.41 20L4 18.59l7.72-7.72 1.47 1.35L5.41 20z\"/>\n",
              "  </svg>\n",
              "      </button>\n",
              "      \n",
              "  <style>\n",
              "    .colab-df-container {\n",
              "      display:flex;\n",
              "      flex-wrap:wrap;\n",
              "      gap: 12px;\n",
              "    }\n",
              "\n",
              "    .colab-df-convert {\n",
              "      background-color: #E8F0FE;\n",
              "      border: none;\n",
              "      border-radius: 50%;\n",
              "      cursor: pointer;\n",
              "      display: none;\n",
              "      fill: #1967D2;\n",
              "      height: 32px;\n",
              "      padding: 0 0 0 0;\n",
              "      width: 32px;\n",
              "    }\n",
              "\n",
              "    .colab-df-convert:hover {\n",
              "      background-color: #E2EBFA;\n",
              "      box-shadow: 0px 1px 2px rgba(60, 64, 67, 0.3), 0px 1px 3px 1px rgba(60, 64, 67, 0.15);\n",
              "      fill: #174EA6;\n",
              "    }\n",
              "\n",
              "    [theme=dark] .colab-df-convert {\n",
              "      background-color: #3B4455;\n",
              "      fill: #D2E3FC;\n",
              "    }\n",
              "\n",
              "    [theme=dark] .colab-df-convert:hover {\n",
              "      background-color: #434B5C;\n",
              "      box-shadow: 0px 1px 3px 1px rgba(0, 0, 0, 0.15);\n",
              "      filter: drop-shadow(0px 1px 2px rgba(0, 0, 0, 0.3));\n",
              "      fill: #FFFFFF;\n",
              "    }\n",
              "  </style>\n",
              "\n",
              "      <script>\n",
              "        const buttonEl =\n",
              "          document.querySelector('#df-522f0112-c2db-4c54-b409-ec33f5df893c button.colab-df-convert');\n",
              "        buttonEl.style.display =\n",
              "          google.colab.kernel.accessAllowed ? 'block' : 'none';\n",
              "\n",
              "        async function convertToInteractive(key) {\n",
              "          const element = document.querySelector('#df-522f0112-c2db-4c54-b409-ec33f5df893c');\n",
              "          const dataTable =\n",
              "            await google.colab.kernel.invokeFunction('convertToInteractive',\n",
              "                                                     [key], {});\n",
              "          if (!dataTable) return;\n",
              "\n",
              "          const docLinkHtml = 'Like what you see? Visit the ' +\n",
              "            '<a target=\"_blank\" href=https://colab.research.google.com/notebooks/data_table.ipynb>data table notebook</a>'\n",
              "            + ' to learn more about interactive tables.';\n",
              "          element.innerHTML = '';\n",
              "          dataTable['output_type'] = 'display_data';\n",
              "          await google.colab.output.renderOutput(dataTable, element);\n",
              "          const docLink = document.createElement('div');\n",
              "          docLink.innerHTML = docLinkHtml;\n",
              "          element.appendChild(docLink);\n",
              "        }\n",
              "      </script>\n",
              "    </div>\n",
              "  </div>\n",
              "  "
            ]
          },
          "metadata": {},
          "execution_count": 10
        }
      ]
    },
    {
      "cell_type": "code",
      "source": [
        "data.info()"
      ],
      "metadata": {
        "colab": {
          "base_uri": "https://localhost:8080/"
        },
        "id": "A_7YAWWBEPSq",
        "outputId": "52ee519d-c46f-48c5-c8b4-1205846b94ef"
      },
      "execution_count": null,
      "outputs": [
        {
          "output_type": "stream",
          "name": "stdout",
          "text": [
            "<class 'pandas.core.frame.DataFrame'>\n",
            "RangeIndex: 400 entries, 0 to 399\n",
            "Data columns (total 3 columns):\n",
            " #   Column                  Non-Null Count  Dtype \n",
            "---  ------                  --------------  ----- \n",
            " 0   Id                      400 non-null    int64 \n",
            " 1   Sentiment               400 non-null    object\n",
            " 2   Instagram Comment Text  400 non-null    object\n",
            "dtypes: int64(1), object(2)\n",
            "memory usage: 9.5+ KB\n"
          ]
        }
      ]
    },
    {
      "cell_type": "code",
      "source": [
        "height = data['Sentiment'].value_counts()\n",
        "labels = ('Positive', 'Negative')\n",
        "y_pos = np.arange(len(labels))\n",
        "\n",
        "plt.figure(figsize=(7,4), dpi=80)\n",
        "plt.ylim(0,300)\n",
        "plt.title('Distribusi Sentimen Terhadap Komentar Instagram', fontweight='bold')\n",
        "plt.xlabel('Kategori', fontweight='bold')\n",
        "plt.ylabel('Jumlah', fontweight='bold')\n",
        "plt.bar(y_pos, height, color=['deepskyblue', 'royalblue', 'skyblue'])\n",
        "plt.xticks(y_pos, labels)\n",
        "plt.show()"
      ],
      "metadata": {
        "colab": {
          "base_uri": "https://localhost:8080/",
          "height": 328
        },
        "id": "ucURd_c8Ee33",
        "outputId": "83a3151f-ce0f-4dad-eafb-2a96b9706391"
      },
      "execution_count": null,
      "outputs": [
        {
          "output_type": "display_data",
          "data": {
            "text/plain": [
              "<Figure size 560x320 with 1 Axes>"
            ],
            "image/png": "[encoded data removed]"
          },
          "metadata": {}
        }
      ]
    },
    {
      "cell_type": "markdown",
      "source": [
        "### 3 - Data Preprocessing"
      ],
      "metadata": {
        "id": "LyD1RY51FpM0"
      }
    },
    {
      "cell_type": "markdown",
      "source": [
        "### Case Folding"
      ],
      "metadata": {
        "id": "mKl3lA8BGVq4"
      }
    },
    {
      "cell_type": "code",
      "source": [
        "import re\n",
        "\n",
        "# Buat fungsi untuk langkah case folding\n",
        "def casefolding(text):\n",
        "  text = text.lower()                               # Mengubah teks menjadi lower case\n",
        "  text = re.sub(r'https?://\\S+|www\\.\\S+', '', text) # Menghapus URL\n",
        "  text = re.sub(r'[-+]?[0-9]+', '', text)           # Menghapus angka\n",
        "  text = re.sub(r'[^\\w\\s]','', text)                # Menghapus karakter tanda baca\n",
        "  text = text.strip()\n",
        "  return text"
      ],
      "metadata": {
        "id": "V2ZfSKiIGX2y"
      },
      "execution_count": null,
      "outputs": []
    },
    {
      "cell_type": "code",
      "source": [
        "raw_sample = data['Instagram Comment Text'].iloc[5]\n",
        "case_folding = casefolding(raw_sample)\n",
        "\n",
        "print('Raw data\\t: ', raw_sample)\n",
        "print('Case folding\\t: ', case_folding)"
      ],
      "metadata": {
        "colab": {
          "base_uri": "https://localhost:8080/"
        },
        "id": "xTCijYlAHKBh",
        "outputId": "e8570913-53a1-47df-a701-4eeb176cd0ec"
      },
      "execution_count": null,
      "outputs": [
        {
          "output_type": "stream",
          "name": "stdout",
          "text": [
            "Raw data\t:  Pantesan di tinggalin laki, ya lakinya juga mikir kali kalau perempuannya kayagni. Ngurus diri aja dia gak becus gimana ngurus anak, mending anak sama bapake nya aja bener didiknya\n",
            "Case folding\t:  pantesan di tinggalin laki ya lakinya juga mikir kali kalau perempuannya kayagni ngurus diri aja dia gak becus gimana ngurus anak mending anak sama bapake nya aja bener didiknya\n"
          ]
        }
      ]
    },
    {
      "cell_type": "markdown",
      "source": [
        "### Normalization Word"
      ],
      "metadata": {
        "id": "xibibMPRHw0e"
      }
    },
    {
      "cell_type": "code",
      "source": [
        "#corpus kumpulan slangwords\n",
        "!wget https://raw.githubusercontent.com/ksnugroho/klasifikasi-spam-sms/master/data/key_norm.csv"
      ],
      "metadata": {
        "colab": {
          "base_uri": "https://localhost:8080/"
        },
        "id": "Rkq69hS3H1Ao",
        "outputId": "96068abb-501e-43a5-efa6-31b5f164ede4"
      },
      "execution_count": null,
      "outputs": [
        {
          "output_type": "stream",
          "name": "stdout",
          "text": [
            "--2023-04-09 15:07:09--  https://raw.githubusercontent.com/ksnugroho/klasifikasi-spam-sms/master/data/key_norm.csv\n",
            "Resolving raw.githubusercontent.com (raw.githubusercontent.com)... 185.199.108.133, 185.199.109.133, 185.199.110.133, ...\n",
            "Connecting to raw.githubusercontent.com (raw.githubusercontent.com)|185.199.108.133|:443... connected.\n",
            "HTTP request sent, awaiting response... 200 OK\n",
            "Length: 80969 (79K) [text/plain]\n",
            "Saving to: ‘key_norm.csv’\n",
            "\n",
            "\rkey_norm.csv          0%[                    ]       0  --.-KB/s               \rkey_norm.csv        100%[===================>]  79.07K  --.-KB/s    in 0.01s   \n",
            "\n",
            "2023-04-09 15:07:09 (5.92 MB/s) - ‘key_norm.csv’ saved [80969/80969]\n",
            "\n"
          ]
        }
      ]
    },
    {
      "cell_type": "code",
      "source": [
        "key_norm = pd.read_csv('key_norm.csv')\n",
        "print(key_norm.head())\n",
        "\n",
        "key_norm.shape"
      ],
      "metadata": {
        "colab": {
          "base_uri": "https://localhost:8080/"
        },
        "id": "syr_dU9kH6uw",
        "outputId": "0c71e15f-85d8-4076-ddb9-08c895dba05a"
      },
      "execution_count": null,
      "outputs": [
        {
          "output_type": "stream",
          "name": "stdout",
          "text": [
            "   _id      singkat       hasil\n",
            "0    1         abis       habis\n",
            "1    2       accent     tekanan\n",
            "2    3       accept      terima\n",
            "3    4     accident  kecelakaan\n",
            "4    5  achievement    prestasi\n"
          ]
        },
        {
          "output_type": "execute_result",
          "data": {
            "text/plain": [
              "(3720, 3)"
            ]
          },
          "metadata": {},
          "execution_count": 16
        }
      ]
    },
    {
      "cell_type": "code",
      "source": [
        "def text_normalize(text):\n",
        "  text = ' '.join([key_norm[key_norm['singkat'] == word]['hasil'].values[0] if (key_norm['singkat'] == word).any() else word for word in text.split()])\n",
        "  text = str.lower(text)\n",
        "  return text"
      ],
      "metadata": {
        "id": "VEnumQR9H_Ji"
      },
      "execution_count": null,
      "outputs": []
    },
    {
      "cell_type": "code",
      "source": [
        "raw_sample = data['Instagram Comment Text'].iloc[5]\n",
        "case_folding = casefolding(raw_sample)\n",
        "normalize = text_normalize(case_folding)\n",
        "\n",
        "print('Raw data\\t: ', raw_sample)\n",
        "print('Case folding\\t: ', case_folding)\n",
        "print('Word Normalize\\t: ', normalize)"
      ],
      "metadata": {
        "colab": {
          "base_uri": "https://localhost:8080/"
        },
        "id": "hdF9mH1NIBsg",
        "outputId": "163c4c51-1595-4584-a1d8-18ba4882a311"
      },
      "execution_count": null,
      "outputs": [
        {
          "output_type": "stream",
          "name": "stdout",
          "text": [
            "Raw data\t:  Pantesan di tinggalin laki, ya lakinya juga mikir kali kalau perempuannya kayagni. Ngurus diri aja dia gak becus gimana ngurus anak, mending anak sama bapake nya aja bener didiknya\n",
            "Case folding\t:  pantesan di tinggalin laki ya lakinya juga mikir kali kalau perempuannya kayagni ngurus diri aja dia gak becus gimana ngurus anak mending anak sama bapake nya aja bener didiknya\n",
            "Word Normalize\t:  pantesan di tinggalin laki ya lakinya juga berfikir kali kalau perempuannya kayagni ngurus diri saja dia tidak becus bagaimana ngurus anak mending anak sama bapake nya saja bener didiknya\n"
          ]
        }
      ]
    },
    {
      "cell_type": "markdown",
      "source": [
        "### Sopword Removal"
      ],
      "metadata": {
        "id": "ZNtm54__IfdV"
      }
    },
    {
      "cell_type": "code",
      "source": [
        "from nltk.tokenize import sent_tokenize, word_tokenize\n",
        "from nltk.corpus import stopwords\n",
        "\n",
        "stopwords_ind = stopwords.words('indonesian')"
      ],
      "metadata": {
        "id": "kzQ6hHWUIiMw"
      },
      "execution_count": null,
      "outputs": []
    },
    {
      "cell_type": "code",
      "source": [
        "# Buat fungsi untuk langkah stopword removal\n",
        "\n",
        "more_stopword = ['geblek','tolol','bangsat','username']                    # Tambahkan kata lain dalam daftar stopword\n",
        "stopwords_ind = stopwords_ind + more_stopword\n",
        "\n",
        "def remove_stop_words(text):\n",
        "  clean_words = []\n",
        "  text = text.split()\n",
        "  for word in text:\n",
        "      if word not in stopwords_ind:\n",
        "          clean_words.append(word)\n",
        "  return \" \".join(clean_words)"
      ],
      "metadata": {
        "id": "uQ9kLJOwJraR"
      },
      "execution_count": null,
      "outputs": []
    },
    {
      "cell_type": "code",
      "source": [
        "raw_sample = data['Instagram Comment Text'].iloc[0]\n",
        "case_folding = casefolding(raw_sample)\n",
        "stopword_removal = remove_stop_words(case_folding)\n",
        "\n",
        "print('Raw data\\t\\t: ',raw_sample)\n",
        "print('Case folding\\t\\t: ',case_folding)\n",
        "print('Stopword removal\\t: ',stopword_removal)"
      ],
      "metadata": {
        "colab": {
          "base_uri": "https://localhost:8080/"
        },
        "id": "FkrfhH5OIxnO",
        "outputId": "df5b0312-b4b8-4f0e-efd3-030004615ac5"
      },
      "execution_count": null,
      "outputs": [
        {
          "output_type": "stream",
          "name": "stdout",
          "text": [
            "Raw data\t\t:   <USERNAME> TOLOL!! Gak ada hubungan nya keguguran dgn pake hijab syar'i yg lo bilang bayi nya kepanasan didalem gak ada hubungan nya woyyyy!! Otak sama jempol lo gak singkron sih ya jadinya asal nulis komentar!\n",
            "Case folding\t\t:  username tolol gak ada hubungan nya keguguran dgn pake hijab syari yg lo bilang bayi nya kepanasan didalem gak ada hubungan nya woyyyy otak sama jempol lo gak singkron sih ya jadinya asal nulis komentar\n",
            "Stopword removal\t:  gak hubungan nya keguguran dgn pake hijab syari yg lo bilang bayi nya kepanasan didalem gak hubungan nya woyyyy otak jempol lo gak singkron sih ya nulis komentar\n"
          ]
        }
      ]
    },
    {
      "cell_type": "markdown",
      "source": [
        "### Stemming"
      ],
      "metadata": {
        "id": "tEYFDTTJMSKT"
      }
    },
    {
      "cell_type": "code",
      "source": [
        "from Sastrawi.Stemmer.StemmerFactory import StemmerFactory\n",
        "\n",
        "factory = StemmerFactory()\n",
        "stemmer = factory.create_stemmer()\n",
        "\n",
        "# Buat fungsi untuk langkah stemming bahasa Indonesia\n",
        "def stemming(text):\n",
        "  text = stemmer.stem(text)\n",
        "  return text"
      ],
      "metadata": {
        "id": "xv74s-fRMTwB"
      },
      "execution_count": null,
      "outputs": []
    },
    {
      "cell_type": "code",
      "source": [
        "raw_sample = data['Instagram Comment Text'].iloc[5]\n",
        "case_folding = casefolding(raw_sample)\n",
        "normalize = text_normalize(case_folding)\n",
        "stopword_removal = remove_stop_words(normalize)\n",
        "text_stemming = stemming(stopword_removal)\n",
        "\n",
        "print('Raw data\\t: ', raw_sample)\n",
        "print('Case folding\\t: ', case_folding)\n",
        "print('Word Normalize\\t: ', normalize)\n",
        "print('Stopword\\t: ', stopword_removal)\n",
        "print('Stemming\\t: ', text_stemming)"
      ],
      "metadata": {
        "colab": {
          "base_uri": "https://localhost:8080/"
        },
        "id": "-EvZw2p2Ma9i",
        "outputId": "573d8feb-0f80-41f8-b1bd-a3fa952c4ef3"
      },
      "execution_count": null,
      "outputs": [
        {
          "output_type": "stream",
          "name": "stdout",
          "text": [
            "Raw data\t:  Pantesan di tinggalin laki, ya lakinya juga mikir kali kalau perempuannya kayagni. Ngurus diri aja dia gak becus gimana ngurus anak, mending anak sama bapake nya aja bener didiknya\n",
            "Case folding\t:  pantesan di tinggalin laki ya lakinya juga mikir kali kalau perempuannya kayagni ngurus diri aja dia gak becus gimana ngurus anak mending anak sama bapake nya aja bener didiknya\n",
            "Word Normalize\t:  pantesan di tinggalin laki ya lakinya juga berfikir kali kalau perempuannya kayagni ngurus diri saja dia tidak becus bagaimana ngurus anak mending anak sama bapake nya saja bener didiknya\n",
            "Stopword\t:  pantesan tinggalin laki ya lakinya berfikir kali perempuannya kayagni ngurus becus ngurus anak mending anak bapake nya bener didiknya\n",
            "Stemming\t:  pantesan tinggalin laki ya laki berfikir kali perempuan kayagni ngurus becus ngurus anak mending anak bapake nya bener didik\n"
          ]
        }
      ]
    },
    {
      "cell_type": "markdown",
      "source": [
        "### Text Preprocessing Pipeline"
      ],
      "metadata": {
        "id": "JkYmcxWWMtAh"
      }
    },
    {
      "cell_type": "code",
      "source": [
        "# Buat fungsi untuk menggabungkan seluruh langkah text preprocessing\n",
        "def text_preprocessing_process(text):\n",
        "  text = casefolding(text)\n",
        "  text = text_normalize(text)\n",
        "  text = remove_stop_words(text)\n",
        "  text = stemming(text)\n",
        "  return text"
      ],
      "metadata": {
        "id": "Xmsjo5ygMpq6"
      },
      "execution_count": null,
      "outputs": []
    },
    {
      "cell_type": "code",
      "source": [
        "%%time\n",
        "data['clean_teks'] = data['Instagram Comment Text'].apply(text_preprocessing_process)"
      ],
      "metadata": {
        "colab": {
          "base_uri": "https://localhost:8080/"
        },
        "id": "rNsrPLcIMyFH",
        "outputId": "9bbd11e7-6f40-4eba-8c04-260590288148"
      },
      "execution_count": null,
      "outputs": [
        {
          "output_type": "stream",
          "name": "stdout",
          "text": [
            "CPU times: user 3min 19s, sys: 686 ms, total: 3min 19s\n",
            "Wall time: 3min 38s\n"
          ]
        }
      ]
    },
    {
      "cell_type": "code",
      "source": [
        "data"
      ],
      "metadata": {
        "colab": {
          "base_uri": "https://localhost:8080/",
          "height": 424
        },
        "id": "T5ORGhfsM3HV",
        "outputId": "db50db14-2614-4085-9678-ea760e656d23"
      },
      "execution_count": null,
      "outputs": [
        {
          "output_type": "execute_result",
          "data": {
            "text/plain": [
              "      Id Sentiment                             Instagram Comment Text  \\\n",
              "0      1  negative   <USERNAME> TOLOL!! Gak ada hubungan nya kegug...   \n",
              "1      2  negative  Geblek lo tata...cowo bgt dibela2in balikan......   \n",
              "2      3  negative  Kmrn termewek2 skr lengket lg duhhh kok labil ...   \n",
              "3      4  negative  Intinya kalau kesel dengan ATT nya, gausah ke ...   \n",
              "4      5  negative  hadewwwww permpuan itu lg!!!!sakit jiwa,knp ha...   \n",
              "..   ...       ...                                                ...   \n",
              "395  396  positive  Bangga sama suami yg selalu ingat istri disela...   \n",
              "396  397  positive  Apaoun pekerjaannya yg penting halal u tuk men...   \n",
              "397  398  positive  Gojek itu mayoritas pegangguran yang lama gak ...   \n",
              "398  399  positive   <USERNAME> aslinya cantik dan ayu loh mbak kr...   \n",
              "399  400  positive   <USERNAME> suami saya seumuran sama saya mba,...   \n",
              "\n",
              "                                            clean_teks  \n",
              "0    hubung nya gugur pakai hijab syar bilang bayi ...  \n",
              "1    bodoh tatacowo banget bain balikanhadewwntar t...  \n",
              "2    kemarin mewek skr lengket duhhh labil banget s...  \n",
              "3    inti kesel att nya anak kasihan kembang psikis...  \n",
              "4    hadewwwww permpuan lgsakit jiwaknp peran utama...  \n",
              "..                                                 ...  \n",
              "395  bangga suami istri sela apa profesi kau juara ...  \n",
              "396    apaoun kerja halal tuk nafkah keluarga semangat  \n",
              "397  gojek mayoritas pegangguran kerja putus asaa t...  \n",
              "398  asli cantik ayu loh mbak temu langsung sembak ...  \n",
              "399  suami umur mbak tua alhamdulillah suami kekana...  \n",
              "\n",
              "[400 rows x 4 columns]"
            ],
            "text/html": [
              "\n",
              "  <div id=\"df-8061ae44-025f-43f7-ba69-39fd13e578cc\">\n",
              "    <div class=\"colab-df-container\">\n",
              "      <div>\n",
              "<style scoped>\n",
              "    .dataframe tbody tr th:only-of-type {\n",
              "        vertical-align: middle;\n",
              "    }\n",
              "\n",
              "    .dataframe tbody tr th {\n",
              "        vertical-align: top;\n",
              "    }\n",
              "\n",
              "    .dataframe thead th {\n",
              "        text-align: right;\n",
              "    }\n",
              "</style>\n",
              "<table border=\"1\" class=\"dataframe\">\n",
              "  <thead>\n",
              "    <tr style=\"text-align: right;\">\n",
              "      <th></th>\n",
              "      <th>Id</th>\n",
              "      <th>Sentiment</th>\n",
              "      <th>Instagram Comment Text</th>\n",
              "      <th>clean_teks</th>\n",
              "    </tr>\n",
              "  </thead>\n",
              "  <tbody>\n",
              "    <tr>\n",
              "      <th>0</th>\n",
              "      <td>1</td>\n",
              "      <td>negative</td>\n",
              "      <td>&lt;USERNAME&gt; TOLOL!! Gak ada hubungan nya kegug...</td>\n",
              "      <td>hubung nya gugur pakai hijab syar bilang bayi ...</td>\n",
              "    </tr>\n",
              "    <tr>\n",
              "      <th>1</th>\n",
              "      <td>2</td>\n",
              "      <td>negative</td>\n",
              "      <td>Geblek lo tata...cowo bgt dibela2in balikan......</td>\n",
              "      <td>bodoh tatacowo banget bain balikanhadewwntar t...</td>\n",
              "    </tr>\n",
              "    <tr>\n",
              "      <th>2</th>\n",
              "      <td>3</td>\n",
              "      <td>negative</td>\n",
              "      <td>Kmrn termewek2 skr lengket lg duhhh kok labil ...</td>\n",
              "      <td>kemarin mewek skr lengket duhhh labil banget s...</td>\n",
              "    </tr>\n",
              "    <tr>\n",
              "      <th>3</th>\n",
              "      <td>4</td>\n",
              "      <td>negative</td>\n",
              "      <td>Intinya kalau kesel dengan ATT nya, gausah ke ...</td>\n",
              "      <td>inti kesel att nya anak kasihan kembang psikis...</td>\n",
              "    </tr>\n",
              "    <tr>\n",
              "      <th>4</th>\n",
              "      <td>5</td>\n",
              "      <td>negative</td>\n",
              "      <td>hadewwwww permpuan itu lg!!!!sakit jiwa,knp ha...</td>\n",
              "      <td>hadewwwww permpuan lgsakit jiwaknp peran utama...</td>\n",
              "    </tr>\n",
              "    <tr>\n",
              "      <th>...</th>\n",
              "      <td>...</td>\n",
              "      <td>...</td>\n",
              "      <td>...</td>\n",
              "      <td>...</td>\n",
              "    </tr>\n",
              "    <tr>\n",
              "      <th>395</th>\n",
              "      <td>396</td>\n",
              "      <td>positive</td>\n",
              "      <td>Bangga sama suami yg selalu ingat istri disela...</td>\n",
              "      <td>bangga suami istri sela apa profesi kau juara ...</td>\n",
              "    </tr>\n",
              "    <tr>\n",
              "      <th>396</th>\n",
              "      <td>397</td>\n",
              "      <td>positive</td>\n",
              "      <td>Apaoun pekerjaannya yg penting halal u tuk men...</td>\n",
              "      <td>apaoun kerja halal tuk nafkah keluarga semangat</td>\n",
              "    </tr>\n",
              "    <tr>\n",
              "      <th>397</th>\n",
              "      <td>398</td>\n",
              "      <td>positive</td>\n",
              "      <td>Gojek itu mayoritas pegangguran yang lama gak ...</td>\n",
              "      <td>gojek mayoritas pegangguran kerja putus asaa t...</td>\n",
              "    </tr>\n",
              "    <tr>\n",
              "      <th>398</th>\n",
              "      <td>399</td>\n",
              "      <td>positive</td>\n",
              "      <td>&lt;USERNAME&gt; aslinya cantik dan ayu loh mbak kr...</td>\n",
              "      <td>asli cantik ayu loh mbak temu langsung sembak ...</td>\n",
              "    </tr>\n",
              "    <tr>\n",
              "      <th>399</th>\n",
              "      <td>400</td>\n",
              "      <td>positive</td>\n",
              "      <td>&lt;USERNAME&gt; suami saya seumuran sama saya mba,...</td>\n",
              "      <td>suami umur mbak tua alhamdulillah suami kekana...</td>\n",
              "    </tr>\n",
              "  </tbody>\n",
              "</table>\n",
              "<p>400 rows × 4 columns</p>\n",
              "</div>\n",
              "      <button class=\"colab-df-convert\" onclick=\"convertToInteractive('df-8061ae44-025f-43f7-ba69-39fd13e578cc')\"\n",
              "              title=\"Convert this dataframe to an interactive table.\"\n",
              "              style=\"display:none;\">\n",
              "        \n",
              "  <svg xmlns=\"http://www.w3.org/2000/svg\" height=\"24px\"viewBox=\"0 0 24 24\"\n",
              "       width=\"24px\">\n",
              "    <path d=\"M0 0h24v24H0V0z\" fill=\"none\"/>\n",
              "    <path d=\"M18.56 5.44l.94 2.06.94-2.06 2.06-.94-2.06-.94-.94-2.06-.94 2.06-2.06.94zm-11 1L8.5 8.5l.94-2.06 2.06-.94-2.06-.94L8.5 2.5l-.94 2.06-2.06.94zm10 10l.94 2.06.94-2.06 2.06-.94-2.06-.94-.94-2.06-.94 2.06-2.06.94z\"/><path d=\"M17.41 7.96l-1.37-1.37c-.4-.4-.92-.59-1.43-.59-.52 0-1.04.2-1.43.59L10.3 9.45l-7.72 7.72c-.78.78-.78 2.05 0 2.83L4 21.41c.39.39.9.59 1.41.59.51 0 1.02-.2 1.41-.59l7.78-7.78 2.81-2.81c.8-.78.8-2.07 0-2.86zM5.41 20L4 18.59l7.72-7.72 1.47 1.35L5.41 20z\"/>\n",
              "  </svg>\n",
              "      </button>\n",
              "      \n",
              "  <style>\n",
              "    .colab-df-container {\n",
              "      display:flex;\n",
              "      flex-wrap:wrap;\n",
              "      gap: 12px;\n",
              "    }\n",
              "\n",
              "    .colab-df-convert {\n",
              "      background-color: #E8F0FE;\n",
              "      border: none;\n",
              "      border-radius: 50%;\n",
              "      cursor: pointer;\n",
              "      display: none;\n",
              "      fill: #1967D2;\n",
              "      height: 32px;\n",
              "      padding: 0 0 0 0;\n",
              "      width: 32px;\n",
              "    }\n",
              "\n",
              "    .colab-df-convert:hover {\n",
              "      background-color: #E2EBFA;\n",
              "      box-shadow: 0px 1px 2px rgba(60, 64, 67, 0.3), 0px 1px 3px 1px rgba(60, 64, 67, 0.15);\n",
              "      fill: #174EA6;\n",
              "    }\n",
              "\n",
              "    [theme=dark] .colab-df-convert {\n",
              "      background-color: #3B4455;\n",
              "      fill: #D2E3FC;\n",
              "    }\n",
              "\n",
              "    [theme=dark] .colab-df-convert:hover {\n",
              "      background-color: #434B5C;\n",
              "      box-shadow: 0px 1px 3px 1px rgba(0, 0, 0, 0.15);\n",
              "      filter: drop-shadow(0px 1px 2px rgba(0, 0, 0, 0.3));\n",
              "      fill: #FFFFFF;\n",
              "    }\n",
              "  </style>\n",
              "\n",
              "      <script>\n",
              "        const buttonEl =\n",
              "          document.querySelector('#df-8061ae44-025f-43f7-ba69-39fd13e578cc button.colab-df-convert');\n",
              "        buttonEl.style.display =\n",
              "          google.colab.kernel.accessAllowed ? 'block' : 'none';\n",
              "\n",
              "        async function convertToInteractive(key) {\n",
              "          const element = document.querySelector('#df-8061ae44-025f-43f7-ba69-39fd13e578cc');\n",
              "          const dataTable =\n",
              "            await google.colab.kernel.invokeFunction('convertToInteractive',\n",
              "                                                     [key], {});\n",
              "          if (!dataTable) return;\n",
              "\n",
              "          const docLinkHtml = 'Like what you see? Visit the ' +\n",
              "            '<a target=\"_blank\" href=https://colab.research.google.com/notebooks/data_table.ipynb>data table notebook</a>'\n",
              "            + ' to learn more about interactive tables.';\n",
              "          element.innerHTML = '';\n",
              "          dataTable['output_type'] = 'display_data';\n",
              "          await google.colab.output.renderOutput(dataTable, element);\n",
              "          const docLink = document.createElement('div');\n",
              "          docLink.innerHTML = docLinkHtml;\n",
              "          element.appendChild(docLink);\n",
              "        }\n",
              "      </script>\n",
              "    </div>\n",
              "  </div>\n",
              "  "
            ]
          },
          "metadata": {},
          "execution_count": 26
        }
      ]
    },
    {
      "cell_type": "markdown",
      "source": [
        "### 4 - Feature Engineering"
      ],
      "metadata": {
        "id": "yhZ8tIJPNxxh"
      }
    },
    {
      "cell_type": "code",
      "source": [
        "# Pisahkan kolom fitur dan target\n",
        "X = data['clean_teks']\n",
        "y = data['Sentiment']"
      ],
      "metadata": {
        "id": "lmOsNoMoN0Sb"
      },
      "execution_count": null,
      "outputs": []
    },
    {
      "cell_type": "code",
      "source": [
        "X"
      ],
      "metadata": {
        "colab": {
          "base_uri": "https://localhost:8080/"
        },
        "id": "sIiInq3VN20y",
        "outputId": "90665ae5-a86f-4812-8e07-56d0df1758b3"
      },
      "execution_count": null,
      "outputs": [
        {
          "output_type": "execute_result",
          "data": {
            "text/plain": [
              "0      hubung nya gugur pakai hijab syar bilang bayi ...\n",
              "1      bodoh tatacowo banget bain balikanhadewwntar t...\n",
              "2      kemarin mewek skr lengket duhhh labil banget s...\n",
              "3      inti kesel att nya anak kasihan kembang psikis...\n",
              "4      hadewwwww permpuan lgsakit jiwaknp peran utama...\n",
              "                             ...                        \n",
              "395    bangga suami istri sela apa profesi kau juara ...\n",
              "396      apaoun kerja halal tuk nafkah keluarga semangat\n",
              "397    gojek mayoritas pegangguran kerja putus asaa t...\n",
              "398    asli cantik ayu loh mbak temu langsung sembak ...\n",
              "399    suami umur mbak tua alhamdulillah suami kekana...\n",
              "Name: clean_teks, Length: 400, dtype: object"
            ]
          },
          "metadata": {},
          "execution_count": 28
        }
      ]
    },
    {
      "cell_type": "code",
      "source": [
        "y"
      ],
      "metadata": {
        "colab": {
          "base_uri": "https://localhost:8080/"
        },
        "id": "74Xxs77uN5r7",
        "outputId": "a5a8a59a-5e6f-40aa-c844-3d06f05cf505"
      },
      "execution_count": null,
      "outputs": [
        {
          "output_type": "execute_result",
          "data": {
            "text/plain": [
              "0      negative\n",
              "1      negative\n",
              "2      negative\n",
              "3      negative\n",
              "4      negative\n",
              "         ...   \n",
              "395    positive\n",
              "396    positive\n",
              "397    positive\n",
              "398    positive\n",
              "399    positive\n",
              "Name: Sentiment, Length: 400, dtype: object"
            ]
          },
          "metadata": {},
          "execution_count": 29
        }
      ]
    },
    {
      "cell_type": "markdown",
      "source": [
        "### Feature Extraction (TF-IDF dan N-Gram)"
      ],
      "metadata": {
        "id": "rw1arIAON-cB"
      }
    },
    {
      "cell_type": "code",
      "source": [
        "from sklearn.feature_extraction.text import TfidfVectorizer\n",
        "\n",
        "tf_idf = TfidfVectorizer(ngram_range=(1,1))\n",
        "tf_idf.fit(X)"
      ],
      "metadata": {
        "colab": {
          "base_uri": "https://localhost:8080/",
          "height": 75
        },
        "id": "FvFcppyvOBqs",
        "outputId": "68a5d6ac-b20f-4d5d-e9e8-5630481f5632"
      },
      "execution_count": null,
      "outputs": [
        {
          "output_type": "execute_result",
          "data": {
            "text/plain": [
              "TfidfVectorizer()"
            ],
            "text/html": [
              "<style>#sk-container-id-1 {color: black;background-color: white;}#sk-container-id-1 pre{padding: 0;}#sk-container-id-1 div.sk-toggleable {background-color: white;}#sk-container-id-1 label.sk-toggleable__label {cursor: pointer;display: block;width: 100%;margin-bottom: 0;padding: 0.3em;box-sizing: border-box;text-align: center;}#sk-container-id-1 label.sk-toggleable__label-arrow:before {content: \"▸\";float: left;margin-right: 0.25em;color: #696969;}#sk-container-id-1 label.sk-toggleable__label-arrow:hover:before {color: black;}#sk-container-id-1 div.sk-estimator:hover label.sk-toggleable__label-arrow:before {color: black;}#sk-container-id-1 div.sk-toggleable__content {max-height: 0;max-width: 0;overflow: hidden;text-align: left;background-color: #f0f8ff;}#sk-container-id-1 div.sk-toggleable__content pre {margin: 0.2em;color: black;border-radius: 0.25em;background-color: #f0f8ff;}#sk-container-id-1 input.sk-toggleable__control:checked~div.sk-toggleable__content {max-height: 200px;max-width: 100%;overflow: auto;}#sk-container-id-1 input.sk-toggleable__control:checked~label.sk-toggleable__label-arrow:before {content: \"▾\";}#sk-container-id-1 div.sk-estimator input.sk-toggleable__control:checked~label.sk-toggleable__label {background-color: #d4ebff;}#sk-container-id-1 div.sk-label input.sk-toggleable__control:checked~label.sk-toggleable__label {background-color: #d4ebff;}#sk-container-id-1 input.sk-hidden--visually {border: 0;clip: rect(1px 1px 1px 1px);clip: rect(1px, 1px, 1px, 1px);height: 1px;margin: -1px;overflow: hidden;padding: 0;position: absolute;width: 1px;}#sk-container-id-1 div.sk-estimator {font-family: monospace;background-color: #f0f8ff;border: 1px dotted black;border-radius: 0.25em;box-sizing: border-box;margin-bottom: 0.5em;}#sk-container-id-1 div.sk-estimator:hover {background-color: #d4ebff;}#sk-container-id-1 div.sk-parallel-item::after {content: \"\";width: 100%;border-bottom: 1px solid gray;flex-grow: 1;}#sk-container-id-1 div.sk-label:hover label.sk-toggleable__label {background-color: #d4ebff;}#sk-container-id-1 div.sk-serial::before {content: \"\";position: absolute;border-left: 1px solid gray;box-sizing: border-box;top: 0;bottom: 0;left: 50%;z-index: 0;}#sk-container-id-1 div.sk-serial {display: flex;flex-direction: column;align-items: center;background-color: white;padding-right: 0.2em;padding-left: 0.2em;position: relative;}#sk-container-id-1 div.sk-item {position: relative;z-index: 1;}#sk-container-id-1 div.sk-parallel {display: flex;align-items: stretch;justify-content: center;background-color: white;position: relative;}#sk-container-id-1 div.sk-item::before, #sk-container-id-1 div.sk-parallel-item::before {content: \"\";position: absolute;border-left: 1px solid gray;box-sizing: border-box;top: 0;bottom: 0;left: 50%;z-index: -1;}#sk-container-id-1 div.sk-parallel-item {display: flex;flex-direction: column;z-index: 1;position: relative;background-color: white;}#sk-container-id-1 div.sk-parallel-item:first-child::after {align-self: flex-end;width: 50%;}#sk-container-id-1 div.sk-parallel-item:last-child::after {align-self: flex-start;width: 50%;}#sk-container-id-1 div.sk-parallel-item:only-child::after {width: 0;}#sk-container-id-1 div.sk-dashed-wrapped {border: 1px dashed gray;margin: 0 0.4em 0.5em 0.4em;box-sizing: border-box;padding-bottom: 0.4em;background-color: white;}#sk-container-id-1 div.sk-label label {font-family: monospace;font-weight: bold;display: inline-block;line-height: 1.2em;}#sk-container-id-1 div.sk-label-container {text-align: center;}#sk-container-id-1 div.sk-container {/* jupyter's `normalize.less` sets `[hidden] { display: none; }` but bootstrap.min.css set `[hidden] { display: none !important; }` so we also need the `!important` here to be able to override the default hidden behavior on the sphinx rendered scikit-learn.org. See: https://github.com/scikit-learn/scikit-learn/issues/21755 */display: inline-block !important;position: relative;}#sk-container-id-1 div.sk-text-repr-fallback {display: none;}</style><div id=\"sk-container-id-1\" class=\"sk-top-container\"><div class=\"sk-text-repr-fallback\"><pre>TfidfVectorizer()</pre><b>In a Jupyter environment, please rerun this cell to show the HTML representation or trust the notebook. <br />On GitHub, the HTML representation is unable to render, please try loading this page with nbviewer.org.</b></div><div class=\"sk-container\" hidden><div class=\"sk-item\"><div class=\"sk-estimator sk-toggleable\"><input class=\"sk-toggleable__control sk-hidden--visually\" id=\"sk-estimator-id-1\" type=\"checkbox\" checked><label for=\"sk-estimator-id-1\" class=\"sk-toggleable__label sk-toggleable__label-arrow\">TfidfVectorizer</label><div class=\"sk-toggleable__content\"><pre>TfidfVectorizer()</pre></div></div></div></div></div>"
            ]
          },
          "metadata": {},
          "execution_count": 30
        }
      ]
    },
    {
      "cell_type": "code",
      "source": [
        "# Melihat Jumlah Fitur\n",
        "print(len(tf_idf.get_feature_names_out()))"
      ],
      "metadata": {
        "colab": {
          "base_uri": "https://localhost:8080/"
        },
        "id": "Z91P0x0JOEXZ",
        "outputId": "8fcf14ab-ce66-4857-9899-0b1a1fdd55c9"
      },
      "execution_count": null,
      "outputs": [
        {
          "output_type": "stream",
          "name": "stdout",
          "text": [
            "2313\n"
          ]
        }
      ]
    },
    {
      "cell_type": "code",
      "source": [
        "# Melihat fitur-fitur apa saja yang ada di dalam corpus\n",
        "print(tf_idf.get_feature_names_out())"
      ],
      "metadata": {
        "colab": {
          "base_uri": "https://localhost:8080/"
        },
        "id": "jOBeViHiOGmZ",
        "outputId": "fbef9ee2-e38c-4e20-a04e-f8f43f4aab96"
      },
      "execution_count": null,
      "outputs": [
        {
          "output_type": "stream",
          "name": "stdout",
          "text": [
            "['aamiin' 'aammiinnn' 'abal' ... 'zholimi' 'zina' 'zzzzz']\n"
          ]
        }
      ]
    },
    {
      "cell_type": "code",
      "source": [
        "# Melihat matriks jumlah token\n",
        "# Data ini siap untuk dimasukkan dalam proses pemodelan (machine learning)\n",
        "\n",
        "X_tf_idf = tf_idf.transform(X).toarray()\n",
        "X_tf_idf"
      ],
      "metadata": {
        "colab": {
          "base_uri": "https://localhost:8080/"
        },
        "id": "BWhqD_gjOJYr",
        "outputId": "aadbea64-b350-4789-d1d6-b72b5c4c1af6"
      },
      "execution_count": null,
      "outputs": [
        {
          "output_type": "execute_result",
          "data": {
            "text/plain": [
              "array([[0., 0., 0., ..., 0., 0., 0.],\n",
              "       [0., 0., 0., ..., 0., 0., 0.],\n",
              "       [0., 0., 0., ..., 0., 0., 0.],\n",
              "       ...,\n",
              "       [0., 0., 0., ..., 0., 0., 0.],\n",
              "       [0., 0., 0., ..., 0., 0., 0.],\n",
              "       [0., 0., 0., ..., 0., 0., 0.]])"
            ]
          },
          "metadata": {},
          "execution_count": 33
        }
      ]
    },
    {
      "cell_type": "code",
      "source": [
        "# Melihat matriks jumlah token menggunakan TF IDF, lihat perbedaannya dengan metode BoW\n",
        "# Data ini siap untuk dimasukkan dalam proses pemodelan (machine learning)\n",
        "\n",
        "data_tf_idf = pd.DataFrame(X_tf_idf, columns=tf_idf.get_feature_names_out())\n",
        "data_tf_idf"
      ],
      "metadata": {
        "colab": {
          "base_uri": "https://localhost:8080/",
          "height": 488
        },
        "id": "BjOHCZNsOZGJ",
        "outputId": "b42574a1-f35b-4b49-9f3b-f1b7ecab9569"
      },
      "execution_count": null,
      "outputs": [
        {
          "output_type": "execute_result",
          "data": {
            "text/plain": [
              "     aamiin  aammiinnn  abal  abang  abbey     abege  abiiis  abiss  abu   ac  \\\n",
              "0       0.0        0.0   0.0    0.0    0.0  0.000000     0.0    0.0  0.0  0.0   \n",
              "1       0.0        0.0   0.0    0.0    0.0  0.000000     0.0    0.0  0.0  0.0   \n",
              "2       0.0        0.0   0.0    0.0    0.0  0.237377     0.0    0.0  0.0  0.0   \n",
              "3       0.0        0.0   0.0    0.0    0.0  0.000000     0.0    0.0  0.0  0.0   \n",
              "4       0.0        0.0   0.0    0.0    0.0  0.000000     0.0    0.0  0.0  0.0   \n",
              "..      ...        ...   ...    ...    ...       ...     ...    ...  ...  ...   \n",
              "395     0.0        0.0   0.0    0.0    0.0  0.000000     0.0    0.0  0.0  0.0   \n",
              "396     0.0        0.0   0.0    0.0    0.0  0.000000     0.0    0.0  0.0  0.0   \n",
              "397     0.0        0.0   0.0    0.0    0.0  0.000000     0.0    0.0  0.0  0.0   \n",
              "398     0.0        0.0   0.0    0.0    0.0  0.000000     0.0    0.0  0.0  0.0   \n",
              "399     0.0        0.0   0.0    0.0    0.0  0.000000     0.0    0.0  0.0  0.0   \n",
              "\n",
              "     ...   yh  yoo  youtube  yra  yuk  yutub  zaman  zholimi  zina  zzzzz  \n",
              "0    ...  0.0  0.0      0.0  0.0  0.0    0.0    0.0      0.0   0.0    0.0  \n",
              "1    ...  0.0  0.0      0.0  0.0  0.0    0.0    0.0      0.0   0.0    0.0  \n",
              "2    ...  0.0  0.0      0.0  0.0  0.0    0.0    0.0      0.0   0.0    0.0  \n",
              "3    ...  0.0  0.0      0.0  0.0  0.0    0.0    0.0      0.0   0.0    0.0  \n",
              "4    ...  0.0  0.0      0.0  0.0  0.0    0.0    0.0      0.0   0.0    0.0  \n",
              "..   ...  ...  ...      ...  ...  ...    ...    ...      ...   ...    ...  \n",
              "395  ...  0.0  0.0      0.0  0.0  0.0    0.0    0.0      0.0   0.0    0.0  \n",
              "396  ...  0.0  0.0      0.0  0.0  0.0    0.0    0.0      0.0   0.0    0.0  \n",
              "397  ...  0.0  0.0      0.0  0.0  0.0    0.0    0.0      0.0   0.0    0.0  \n",
              "398  ...  0.0  0.0      0.0  0.0  0.0    0.0    0.0      0.0   0.0    0.0  \n",
              "399  ...  0.0  0.0      0.0  0.0  0.0    0.0    0.0      0.0   0.0    0.0  \n",
              "\n",
              "[400 rows x 2313 columns]"
            ],
            "text/html": [
              "\n",
              "  <div id=\"df-433bf93c-10d7-497d-9eb5-48cabd067bb1\">\n",
              "    <div class=\"colab-df-container\">\n",
              "      <div>\n",
              "<style scoped>\n",
              "    .dataframe tbody tr th:only-of-type {\n",
              "        vertical-align: middle;\n",
              "    }\n",
              "\n",
              "    .dataframe tbody tr th {\n",
              "        vertical-align: top;\n",
              "    }\n",
              "\n",
              "    .dataframe thead th {\n",
              "        text-align: right;\n",
              "    }\n",
              "</style>\n",
              "<table border=\"1\" class=\"dataframe\">\n",
              "  <thead>\n",
              "    <tr style=\"text-align: right;\">\n",
              "      <th></th>\n",
              "      <th>aamiin</th>\n",
              "      <th>aammiinnn</th>\n",
              "      <th>abal</th>\n",
              "      <th>abang</th>\n",
              "      <th>abbey</th>\n",
              "      <th>abege</th>\n",
              "      <th>abiiis</th>\n",
              "      <th>abiss</th>\n",
              "      <th>abu</th>\n",
              "      <th>ac</th>\n",
              "      <th>...</th>\n",
              "      <th>yh</th>\n",
              "      <th>yoo</th>\n",
              "      <th>youtube</th>\n",
              "      <th>yra</th>\n",
              "      <th>yuk</th>\n",
              "      <th>yutub</th>\n",
              "      <th>zaman</th>\n",
              "      <th>zholimi</th>\n",
              "      <th>zina</th>\n",
              "      <th>zzzzz</th>\n",
              "    </tr>\n",
              "  </thead>\n",
              "  <tbody>\n",
              "    <tr>\n",
              "      <th>0</th>\n",
              "      <td>0.0</td>\n",
              "      <td>0.0</td>\n",
              "      <td>0.0</td>\n",
              "      <td>0.0</td>\n",
              "      <td>0.0</td>\n",
              "      <td>0.000000</td>\n",
              "      <td>0.0</td>\n",
              "      <td>0.0</td>\n",
              "      <td>0.0</td>\n",
              "      <td>0.0</td>\n",
              "      <td>...</td>\n",
              "      <td>0.0</td>\n",
              "      <td>0.0</td>\n",
              "      <td>0.0</td>\n",
              "      <td>0.0</td>\n",
              "      <td>0.0</td>\n",
              "      <td>0.0</td>\n",
              "      <td>0.0</td>\n",
              "      <td>0.0</td>\n",
              "      <td>0.0</td>\n",
              "      <td>0.0</td>\n",
              "    </tr>\n",
              "    <tr>\n",
              "      <th>1</th>\n",
              "      <td>0.0</td>\n",
              "      <td>0.0</td>\n",
              "      <td>0.0</td>\n",
              "      <td>0.0</td>\n",
              "      <td>0.0</td>\n",
              "      <td>0.000000</td>\n",
              "      <td>0.0</td>\n",
              "      <td>0.0</td>\n",
              "      <td>0.0</td>\n",
              "      <td>0.0</td>\n",
              "      <td>...</td>\n",
              "      <td>0.0</td>\n",
              "      <td>0.0</td>\n",
              "      <td>0.0</td>\n",
              "      <td>0.0</td>\n",
              "      <td>0.0</td>\n",
              "      <td>0.0</td>\n",
              "      <td>0.0</td>\n",
              "      <td>0.0</td>\n",
              "      <td>0.0</td>\n",
              "      <td>0.0</td>\n",
              "    </tr>\n",
              "    <tr>\n",
              "      <th>2</th>\n",
              "      <td>0.0</td>\n",
              "      <td>0.0</td>\n",
              "      <td>0.0</td>\n",
              "      <td>0.0</td>\n",
              "      <td>0.0</td>\n",
              "      <td>0.237377</td>\n",
              "      <td>0.0</td>\n",
              "      <td>0.0</td>\n",
              "      <td>0.0</td>\n",
              "      <td>0.0</td>\n",
              "      <td>...</td>\n",
              "      <td>0.0</td>\n",
              "      <td>0.0</td>\n",
              "      <td>0.0</td>\n",
              "      <td>0.0</td>\n",
              "      <td>0.0</td>\n",
              "      <td>0.0</td>\n",
              "      <td>0.0</td>\n",
              "      <td>0.0</td>\n",
              "      <td>0.0</td>\n",
              "      <td>0.0</td>\n",
              "    </tr>\n",
              "    <tr>\n",
              "      <th>3</th>\n",
              "      <td>0.0</td>\n",
              "      <td>0.0</td>\n",
              "      <td>0.0</td>\n",
              "      <td>0.0</td>\n",
              "      <td>0.0</td>\n",
              "      <td>0.000000</td>\n",
              "      <td>0.0</td>\n",
              "      <td>0.0</td>\n",
              "      <td>0.0</td>\n",
              "      <td>0.0</td>\n",
              "      <td>...</td>\n",
              "      <td>0.0</td>\n",
              "      <td>0.0</td>\n",
              "      <td>0.0</td>\n",
              "      <td>0.0</td>\n",
              "      <td>0.0</td>\n",
              "      <td>0.0</td>\n",
              "      <td>0.0</td>\n",
              "      <td>0.0</td>\n",
              "      <td>0.0</td>\n",
              "      <td>0.0</td>\n",
              "    </tr>\n",
              "    <tr>\n",
              "      <th>4</th>\n",
              "      <td>0.0</td>\n",
              "      <td>0.0</td>\n",
              "      <td>0.0</td>\n",
              "      <td>0.0</td>\n",
              "      <td>0.0</td>\n",
              "      <td>0.000000</td>\n",
              "      <td>0.0</td>\n",
              "      <td>0.0</td>\n",
              "      <td>0.0</td>\n",
              "      <td>0.0</td>\n",
              "      <td>...</td>\n",
              "      <td>0.0</td>\n",
              "      <td>0.0</td>\n",
              "      <td>0.0</td>\n",
              "      <td>0.0</td>\n",
              "      <td>0.0</td>\n",
              "      <td>0.0</td>\n",
              "      <td>0.0</td>\n",
              "      <td>0.0</td>\n",
              "      <td>0.0</td>\n",
              "      <td>0.0</td>\n",
              "    </tr>\n",
              "    <tr>\n",
              "      <th>...</th>\n",
              "      <td>...</td>\n",
              "      <td>...</td>\n",
              "      <td>...</td>\n",
              "      <td>...</td>\n",
              "      <td>...</td>\n",
              "      <td>...</td>\n",
              "      <td>...</td>\n",
              "      <td>...</td>\n",
              "      <td>...</td>\n",
              "      <td>...</td>\n",
              "      <td>...</td>\n",
              "      <td>...</td>\n",
              "      <td>...</td>\n",
              "      <td>...</td>\n",
              "      <td>...</td>\n",
              "      <td>...</td>\n",
              "      <td>...</td>\n",
              "      <td>...</td>\n",
              "      <td>...</td>\n",
              "      <td>...</td>\n",
              "      <td>...</td>\n",
              "    </tr>\n",
              "    <tr>\n",
              "      <th>395</th>\n",
              "      <td>0.0</td>\n",
              "      <td>0.0</td>\n",
              "      <td>0.0</td>\n",
              "      <td>0.0</td>\n",
              "      <td>0.0</td>\n",
              "      <td>0.000000</td>\n",
              "      <td>0.0</td>\n",
              "      <td>0.0</td>\n",
              "      <td>0.0</td>\n",
              "      <td>0.0</td>\n",
              "      <td>...</td>\n",
              "      <td>0.0</td>\n",
              "      <td>0.0</td>\n",
              "      <td>0.0</td>\n",
              "      <td>0.0</td>\n",
              "      <td>0.0</td>\n",
              "      <td>0.0</td>\n",
              "      <td>0.0</td>\n",
              "      <td>0.0</td>\n",
              "      <td>0.0</td>\n",
              "      <td>0.0</td>\n",
              "    </tr>\n",
              "    <tr>\n",
              "      <th>396</th>\n",
              "      <td>0.0</td>\n",
              "      <td>0.0</td>\n",
              "      <td>0.0</td>\n",
              "      <td>0.0</td>\n",
              "      <td>0.0</td>\n",
              "      <td>0.000000</td>\n",
              "      <td>0.0</td>\n",
              "      <td>0.0</td>\n",
              "      <td>0.0</td>\n",
              "      <td>0.0</td>\n",
              "      <td>...</td>\n",
              "      <td>0.0</td>\n",
              "      <td>0.0</td>\n",
              "      <td>0.0</td>\n",
              "      <td>0.0</td>\n",
              "      <td>0.0</td>\n",
              "      <td>0.0</td>\n",
              "      <td>0.0</td>\n",
              "      <td>0.0</td>\n",
              "      <td>0.0</td>\n",
              "      <td>0.0</td>\n",
              "    </tr>\n",
              "    <tr>\n",
              "      <th>397</th>\n",
              "      <td>0.0</td>\n",
              "      <td>0.0</td>\n",
              "      <td>0.0</td>\n",
              "      <td>0.0</td>\n",
              "      <td>0.0</td>\n",
              "      <td>0.000000</td>\n",
              "      <td>0.0</td>\n",
              "      <td>0.0</td>\n",
              "      <td>0.0</td>\n",
              "      <td>0.0</td>\n",
              "      <td>...</td>\n",
              "      <td>0.0</td>\n",
              "      <td>0.0</td>\n",
              "      <td>0.0</td>\n",
              "      <td>0.0</td>\n",
              "      <td>0.0</td>\n",
              "      <td>0.0</td>\n",
              "      <td>0.0</td>\n",
              "      <td>0.0</td>\n",
              "      <td>0.0</td>\n",
              "      <td>0.0</td>\n",
              "    </tr>\n",
              "    <tr>\n",
              "      <th>398</th>\n",
              "      <td>0.0</td>\n",
              "      <td>0.0</td>\n",
              "      <td>0.0</td>\n",
              "      <td>0.0</td>\n",
              "      <td>0.0</td>\n",
              "      <td>0.000000</td>\n",
              "      <td>0.0</td>\n",
              "      <td>0.0</td>\n",
              "      <td>0.0</td>\n",
              "      <td>0.0</td>\n",
              "      <td>...</td>\n",
              "      <td>0.0</td>\n",
              "      <td>0.0</td>\n",
              "      <td>0.0</td>\n",
              "      <td>0.0</td>\n",
              "      <td>0.0</td>\n",
              "      <td>0.0</td>\n",
              "      <td>0.0</td>\n",
              "      <td>0.0</td>\n",
              "      <td>0.0</td>\n",
              "      <td>0.0</td>\n",
              "    </tr>\n",
              "    <tr>\n",
              "      <th>399</th>\n",
              "      <td>0.0</td>\n",
              "      <td>0.0</td>\n",
              "      <td>0.0</td>\n",
              "      <td>0.0</td>\n",
              "      <td>0.0</td>\n",
              "      <td>0.000000</td>\n",
              "      <td>0.0</td>\n",
              "      <td>0.0</td>\n",
              "      <td>0.0</td>\n",
              "      <td>0.0</td>\n",
              "      <td>...</td>\n",
              "      <td>0.0</td>\n",
              "      <td>0.0</td>\n",
              "      <td>0.0</td>\n",
              "      <td>0.0</td>\n",
              "      <td>0.0</td>\n",
              "      <td>0.0</td>\n",
              "      <td>0.0</td>\n",
              "      <td>0.0</td>\n",
              "      <td>0.0</td>\n",
              "      <td>0.0</td>\n",
              "    </tr>\n",
              "  </tbody>\n",
              "</table>\n",
              "<p>400 rows × 2313 columns</p>\n",
              "</div>\n",
              "      <button class=\"colab-df-convert\" onclick=\"convertToInteractive('df-433bf93c-10d7-497d-9eb5-48cabd067bb1')\"\n",
              "              title=\"Convert this dataframe to an interactive table.\"\n",
              "              style=\"display:none;\">\n",
              "        \n",
              "  <svg xmlns=\"http://www.w3.org/2000/svg\" height=\"24px\"viewBox=\"0 0 24 24\"\n",
              "       width=\"24px\">\n",
              "    <path d=\"M0 0h24v24H0V0z\" fill=\"none\"/>\n",
              "    <path d=\"M18.56 5.44l.94 2.06.94-2.06 2.06-.94-2.06-.94-.94-2.06-.94 2.06-2.06.94zm-11 1L8.5 8.5l.94-2.06 2.06-.94-2.06-.94L8.5 2.5l-.94 2.06-2.06.94zm10 10l.94 2.06.94-2.06 2.06-.94-2.06-.94-.94-2.06-.94 2.06-2.06.94z\"/><path d=\"M17.41 7.96l-1.37-1.37c-.4-.4-.92-.59-1.43-.59-.52 0-1.04.2-1.43.59L10.3 9.45l-7.72 7.72c-.78.78-.78 2.05 0 2.83L4 21.41c.39.39.9.59 1.41.59.51 0 1.02-.2 1.41-.59l7.78-7.78 2.81-2.81c.8-.78.8-2.07 0-2.86zM5.41 20L4 18.59l7.72-7.72 1.47 1.35L5.41 20z\"/>\n",
              "  </svg>\n",
              "      </button>\n",
              "      \n",
              "  <style>\n",
              "    .colab-df-container {\n",
              "      display:flex;\n",
              "      flex-wrap:wrap;\n",
              "      gap: 12px;\n",
              "    }\n",
              "\n",
              "    .colab-df-convert {\n",
              "      background-color: #E8F0FE;\n",
              "      border: none;\n",
              "      border-radius: 50%;\n",
              "      cursor: pointer;\n",
              "      display: none;\n",
              "      fill: #1967D2;\n",
              "      height: 32px;\n",
              "      padding: 0 0 0 0;\n",
              "      width: 32px;\n",
              "    }\n",
              "\n",
              "    .colab-df-convert:hover {\n",
              "      background-color: #E2EBFA;\n",
              "      box-shadow: 0px 1px 2px rgba(60, 64, 67, 0.3), 0px 1px 3px 1px rgba(60, 64, 67, 0.15);\n",
              "      fill: #174EA6;\n",
              "    }\n",
              "\n",
              "    [theme=dark] .colab-df-convert {\n",
              "      background-color: #3B4455;\n",
              "      fill: #D2E3FC;\n",
              "    }\n",
              "\n",
              "    [theme=dark] .colab-df-convert:hover {\n",
              "      background-color: #434B5C;\n",
              "      box-shadow: 0px 1px 3px 1px rgba(0, 0, 0, 0.15);\n",
              "      filter: drop-shadow(0px 1px 2px rgba(0, 0, 0, 0.3));\n",
              "      fill: #FFFFFF;\n",
              "    }\n",
              "  </style>\n",
              "\n",
              "      <script>\n",
              "        const buttonEl =\n",
              "          document.querySelector('#df-433bf93c-10d7-497d-9eb5-48cabd067bb1 button.colab-df-convert');\n",
              "        buttonEl.style.display =\n",
              "          google.colab.kernel.accessAllowed ? 'block' : 'none';\n",
              "\n",
              "        async function convertToInteractive(key) {\n",
              "          const element = document.querySelector('#df-433bf93c-10d7-497d-9eb5-48cabd067bb1');\n",
              "          const dataTable =\n",
              "            await google.colab.kernel.invokeFunction('convertToInteractive',\n",
              "                                                     [key], {});\n",
              "          if (!dataTable) return;\n",
              "\n",
              "          const docLinkHtml = 'Like what you see? Visit the ' +\n",
              "            '<a target=\"_blank\" href=https://colab.research.google.com/notebooks/data_table.ipynb>data table notebook</a>'\n",
              "            + ' to learn more about interactive tables.';\n",
              "          element.innerHTML = '';\n",
              "          dataTable['output_type'] = 'display_data';\n",
              "          await google.colab.output.renderOutput(dataTable, element);\n",
              "          const docLink = document.createElement('div');\n",
              "          docLink.innerHTML = docLinkHtml;\n",
              "          element.appendChild(docLink);\n",
              "        }\n",
              "      </script>\n",
              "    </div>\n",
              "  </div>\n",
              "  "
            ]
          },
          "metadata": {},
          "execution_count": 34
        }
      ]
    },
    {
      "cell_type": "code",
      "source": [
        "with open('tf_idf_feature.pickle', 'wb') as output:\n",
        "  pickle.dump(X_tf_idf, output)"
      ],
      "metadata": {
        "id": "l6SOhsI2Oatx"
      },
      "execution_count": null,
      "outputs": []
    },
    {
      "cell_type": "markdown",
      "source": [
        "### 5 - Modeling"
      ],
      "metadata": {
        "id": "NrGQsIQWOdxK"
      }
    },
    {
      "cell_type": "code",
      "source": [
        "from sklearn.naive_bayes import MultinomialNB\n",
        "from sklearn.svm import SVC\n",
        "from sklearn.model_selection import train_test_split\n",
        "from joblib import dump"
      ],
      "metadata": {
        "id": "M6AS6n-iOjPI"
      },
      "execution_count": null,
      "outputs": []
    },
    {
      "cell_type": "code",
      "source": [
        "X_train, X_test, y_train, y_test = train_test_split(X_tf_idf, y, test_size=0.2, random_state=50)"
      ],
      "metadata": {
        "id": "_MCrp1ytOmnj"
      },
      "execution_count": null,
      "outputs": []
    },
    {
      "cell_type": "markdown",
      "source": [
        "### Support Vector Machine"
      ],
      "metadata": {
        "id": "wiJ5gP19Ot3y"
      }
    },
    {
      "cell_type": "code",
      "source": [
        "algorithm_svc = SVC()\n",
        "model = algorithm_svc.fit(X_train, y_train)\n",
        "\n",
        "dump(model, filename='model_1.joblib')"
      ],
      "metadata": {
        "colab": {
          "base_uri": "https://localhost:8080/"
        },
        "id": "IITI-pxHOwd6",
        "outputId": "14a2061e-c5ae-4cbb-85d2-9d822a00510c"
      },
      "execution_count": null,
      "outputs": [
        {
          "output_type": "execute_result",
          "data": {
            "text/plain": [
              "['model_1.joblib']"
            ]
          },
          "metadata": {},
          "execution_count": 38
        }
      ]
    },
    {
      "cell_type": "code",
      "source": [
        "# Gunakan model yang telah di latih untuk memprediksi label pada data uji\n",
        "model_pred = model.predict(X_test)\n",
        "\n",
        "# Tampilkan hasil prediksi label dari model\n",
        "model_pred"
      ],
      "metadata": {
        "colab": {
          "base_uri": "https://localhost:8080/"
        },
        "id": "HF46TlrFOzQB",
        "outputId": "93630d44-bd45-4b7a-a897-88f2c9d0063c"
      },
      "execution_count": null,
      "outputs": [
        {
          "output_type": "execute_result",
          "data": {
            "text/plain": [
              "array(['negative', 'positive', 'negative', 'positive', 'positive',\n",
              "       'negative', 'positive', 'negative', 'positive', 'positive',\n",
              "       'negative', 'negative', 'negative', 'negative', 'negative',\n",
              "       'negative', 'negative', 'positive', 'positive', 'negative',\n",
              "       'negative', 'positive', 'positive', 'negative', 'negative',\n",
              "       'negative', 'positive', 'negative', 'negative', 'positive',\n",
              "       'positive', 'negative', 'negative', 'positive', 'negative',\n",
              "       'positive', 'positive', 'positive', 'negative', 'negative',\n",
              "       'positive', 'negative', 'negative', 'negative', 'negative',\n",
              "       'positive', 'negative', 'negative', 'positive', 'positive',\n",
              "       'positive', 'negative', 'positive', 'negative', 'negative',\n",
              "       'negative', 'positive', 'positive', 'negative', 'positive',\n",
              "       'positive', 'positive', 'negative', 'negative', 'positive',\n",
              "       'positive', 'negative', 'negative', 'positive', 'positive',\n",
              "       'negative', 'positive', 'negative', 'positive', 'positive',\n",
              "       'negative', 'negative', 'negative', 'negative', 'positive'],\n",
              "      dtype=object)"
            ]
          },
          "metadata": {},
          "execution_count": 39
        }
      ]
    },
    {
      "cell_type": "code",
      "source": [
        "# Tampilkan label sebenarnya pada data uji (actual label)\n",
        "y_test"
      ],
      "metadata": {
        "colab": {
          "base_uri": "https://localhost:8080/"
        },
        "id": "0VO8ZIhYO2ok",
        "outputId": "1c5226fd-e3aa-4363-fd12-4975ae0a8f93"
      },
      "execution_count": null,
      "outputs": [
        {
          "output_type": "execute_result",
          "data": {
            "text/plain": [
              "146    negative\n",
              "332    positive\n",
              "67     negative\n",
              "362    positive\n",
              "102    negative\n",
              "         ...   \n",
              "55     negative\n",
              "65     negative\n",
              "16     negative\n",
              "153    negative\n",
              "225    positive\n",
              "Name: Sentiment, Length: 80, dtype: object"
            ]
          },
          "metadata": {},
          "execution_count": 40
        }
      ]
    },
    {
      "cell_type": "code",
      "source": [
        "# Hitung jumlah data yang berhasil di prediksi model & jumlah data yang salah di prediksi\n",
        "from sklearn.model_selection import ShuffleSplit\n",
        "from sklearn.model_selection import cross_val_score\n",
        "cv = ShuffleSplit(n_splits=10, test_size=0.2, random_state=50)\n",
        "\n",
        "cv_accuracy = (cross_val_score(model, X_tf_idf, y, cv=cv, scoring='accuracy'))\n",
        "avg_accuracy = np.mean(cv_accuracy)\n",
        "\n",
        "prediksi_benar = (model_pred == y_test).sum()\n",
        "prediksi_salah = (model_pred != y_test).sum()\n",
        "\n",
        "print('Model Support Vector Machine')\n",
        "print('Jumlah prediksi benar\\t:', prediksi_benar)\n",
        "print('Jumlah prediksi salah\\t:', prediksi_salah)\n",
        "\n",
        "accuracy = prediksi_benar / (prediksi_benar + prediksi_salah)*100\n",
        "print('Akurasi pengujian\\t:', accuracy, '%' '\\n')\n",
        "\n",
        "print('Akurasi setiap split:', cv_accuracy,)\n",
        "print('Rata-rata akurasi pada cross validation:', avg_accuracy)"
      ],
      "metadata": {
        "colab": {
          "base_uri": "https://localhost:8080/"
        },
        "id": "pIekTQjqO-ao",
        "outputId": "421bb41a-2ca4-48ad-a141-f0d051b15316"
      },
      "execution_count": null,
      "outputs": [
        {
          "output_type": "stream",
          "name": "stdout",
          "text": [
            "Model Support Vector Machine\n",
            "Jumlah prediksi benar\t: 68\n",
            "Jumlah prediksi salah\t: 12\n",
            "Akurasi pengujian\t: 85.0 %\n",
            "\n",
            "Akurasi setiap split: [0.85   0.925  0.8875 0.925  0.8625 0.8625 0.875  0.875  0.9125 0.925 ]\n",
            "Rata-rata akurasi pada cross validation: 0.89\n"
          ]
        }
      ]
    },
    {
      "cell_type": "markdown",
      "source": [
        "### Naive Bayes"
      ],
      "metadata": {
        "id": "8OK3JHxsPB1S"
      }
    },
    {
      "cell_type": "code",
      "source": [
        "algorithm_nb = MultinomialNB()\n",
        "model = algorithm_nb.fit(X_train, y_train)\n",
        "\n",
        "dump(model, filename='model_2.joblib')"
      ],
      "metadata": {
        "colab": {
          "base_uri": "https://localhost:8080/"
        },
        "id": "WwyE5PTtPFjJ",
        "outputId": "c83128d5-4415-4d89-a2b4-7db433fbb5c0"
      },
      "execution_count": null,
      "outputs": [
        {
          "output_type": "execute_result",
          "data": {
            "text/plain": [
              "['model_2.joblib']"
            ]
          },
          "metadata": {},
          "execution_count": 42
        }
      ]
    },
    {
      "cell_type": "code",
      "source": [
        "# Gunakan model yang telah di latih untuk memprediksi label pada data uji\n",
        "model_pred = model.predict(X_test)\n",
        "\n",
        "# Tampilkan hasil prediksi label dari model\n",
        "model_pred"
      ],
      "metadata": {
        "colab": {
          "base_uri": "https://localhost:8080/"
        },
        "id": "ZEHDEIQ9PJ3B",
        "outputId": "6228262e-7d3f-4d44-80a0-1336a33ec1f2"
      },
      "execution_count": null,
      "outputs": [
        {
          "output_type": "execute_result",
          "data": {
            "text/plain": [
              "array(['negative', 'positive', 'negative', 'positive', 'negative',\n",
              "       'negative', 'positive', 'positive', 'positive', 'positive',\n",
              "       'negative', 'negative', 'positive', 'negative', 'positive',\n",
              "       'negative', 'negative', 'positive', 'positive', 'negative',\n",
              "       'negative', 'positive', 'positive', 'negative', 'negative',\n",
              "       'negative', 'positive', 'negative', 'negative', 'positive',\n",
              "       'positive', 'negative', 'negative', 'positive', 'negative',\n",
              "       'positive', 'positive', 'positive', 'negative', 'negative',\n",
              "       'positive', 'negative', 'negative', 'negative', 'negative',\n",
              "       'positive', 'negative', 'negative', 'positive', 'positive',\n",
              "       'positive', 'negative', 'positive', 'negative', 'negative',\n",
              "       'negative', 'positive', 'positive', 'negative', 'positive',\n",
              "       'positive', 'positive', 'positive', 'negative', 'positive',\n",
              "       'positive', 'negative', 'negative', 'positive', 'positive',\n",
              "       'negative', 'positive', 'negative', 'positive', 'positive',\n",
              "       'negative', 'negative', 'negative', 'negative', 'positive'],\n",
              "      dtype='<U8')"
            ]
          },
          "metadata": {},
          "execution_count": 43
        }
      ]
    },
    {
      "cell_type": "code",
      "source": [
        "# Tampilkan label sebenarnya pada data uji (actual label)\n",
        "y_test"
      ],
      "metadata": {
        "colab": {
          "base_uri": "https://localhost:8080/"
        },
        "id": "hG6407ZhPMUP",
        "outputId": "761a6534-825f-4aae-e743-fe36be6a1ed6"
      },
      "execution_count": null,
      "outputs": [
        {
          "output_type": "execute_result",
          "data": {
            "text/plain": [
              "146    negative\n",
              "332    positive\n",
              "67     negative\n",
              "362    positive\n",
              "102    negative\n",
              "         ...   \n",
              "55     negative\n",
              "65     negative\n",
              "16     negative\n",
              "153    negative\n",
              "225    positive\n",
              "Name: Sentiment, Length: 80, dtype: object"
            ]
          },
          "metadata": {},
          "execution_count": 44
        }
      ]
    },
    {
      "cell_type": "code",
      "source": [
        "# Hitung jumlah data yang berhasil di prediksi model & jumlah data yang salah di prediksi\n",
        "from sklearn.model_selection import ShuffleSplit\n",
        "from sklearn.model_selection import cross_val_score\n",
        "cv = ShuffleSplit(n_splits=10, test_size=0.2, random_state=50)\n",
        "\n",
        "cv_accuracy = (cross_val_score(model, X_tf_idf, y, cv=cv, scoring='accuracy'))\n",
        "avg_accuracy = np.mean(cv_accuracy)\n",
        "\n",
        "prediksi_benar = (model_pred == y_test).sum()\n",
        "prediksi_salah = (model_pred != y_test).sum()\n",
        "\n",
        "print('Model Naive Bayes')\n",
        "print('Jumlah prediksi benar\\t:', prediksi_benar)\n",
        "print('Jumlah prediksi salah\\t:', prediksi_salah)\n",
        "\n",
        "accuracy = prediksi_benar / (prediksi_benar + prediksi_salah)*100\n",
        "print('Akurasi pengujian\\t:', accuracy, '%' '\\n')\n",
        "\n",
        "print('Akurasi setiap split:', cv_accuracy,)\n",
        "print('Rata-rata akurasi pada cross validation:', avg_accuracy)"
      ],
      "metadata": {
        "colab": {
          "base_uri": "https://localhost:8080/"
        },
        "id": "B3sEmpZLPO5l",
        "outputId": "b7cc60b9-1001-410d-dcdb-a44efe4ec91c"
      },
      "execution_count": null,
      "outputs": [
        {
          "output_type": "stream",
          "name": "stdout",
          "text": [
            "Model Naive Bayes\n",
            "Jumlah prediksi benar\t: 65\n",
            "Jumlah prediksi salah\t: 15\n",
            "Akurasi pengujian\t: 81.25 %\n",
            "\n",
            "Akurasi setiap split: [0.8125 0.9125 0.925  0.9375 0.875  0.875  0.825  0.85   0.9375 0.9   ]\n",
            "Rata-rata akurasi pada cross validation: 0.885\n"
          ]
        }
      ]
    }
  ]
}